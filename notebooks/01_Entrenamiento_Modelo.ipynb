{
 "cells": [
  {
   "cell_type": "markdown",
   "id": "3f59edb6",
   "metadata": {},
   "source": [
    "# Bloque 1: Importaciones y Configuración\n",
    "\n",
    "- Propósito: Cargar todas las \"cajas de herramientas\" (librerías) que usaremos\n",
    "\n",
    "1) librosa: Para cargar y analizar los audios.\n",
    "2) sklearn: Para crear y entrenar el modelo de Machine Learning.\n",
    "3) joblib: Para guardar nuestro modelo entrenado en un archivo.\n",
    "\n",
    "También definimos las rutas:\n",
    "1) DATASET_BASE_PATH: La carpeta donde están los audios de entrenamiento.\n",
    "2) CLASES: Los nombres de las subcarpetas (nuestras categorías)."
   ]
  },
  {
   "cell_type": "code",
   "execution_count": 1,
   "id": "f9210d86",
   "metadata": {},
   "outputs": [],
   "source": [
    "# Bloque 1: Importaciones y configuración\n",
    "import os\n",
    "import numpy as np\n",
    "import librosa\n",
    "from sklearn.model_selection import train_test_split\n",
    "from sklearn.ensemble import RandomForestClassifier\n",
    "from sklearn.metrics import accuracy_score\n",
    "import joblib\n",
    "\n",
    "DATASET_BASE_PATH = \"audios_proyecto/\"\n",
    "CLASES = [\"pequeno\", \"mediano\", \"grande\"]"
   ]
  },
  {
   "cell_type": "markdown",
   "id": "2bbc9d9e",
   "metadata": {},
   "source": [
    "# Bloque 2: Función de Extracción de Características\n",
    "\n",
    "- Propósito: Definir la \"receta\" para convertir un archivo de audio en números.\n",
    "\n",
    "Esta función es el cerebro del proceso:\n",
    "1) Carga el audio con `librosa.load()`.\n",
    "2) Calcula 40 \"MFCCs\" (son como una \"huella digital\" del sonido).\n",
    "3) Calcula la media de esos MFCCs para resumir el audio en un solo vector (lista) de 40 números, sin importar cuánto dure el audio."
   ]
  },
  {
   "cell_type": "code",
   "execution_count": 2,
   "id": "b0dd3202",
   "metadata": {},
   "outputs": [],
   "source": [
    "# Bloque 2: Función de Extracción de Características\n",
    "def extract_features(file_path, n_mfcc=40):\n",
    "    \"\"\"Carga un archivo de audio (path) y extrae la media de 40 MFCCs.\"\"\"\n",
    "    try:\n",
    "        y, sr = librosa.load(file_path, res_type='kaiser_fast') \n",
    "        mfccs = librosa.feature.mfcc(y=y, sr=sr, n_mfcc=n_mfcc)\n",
    "        features_vector = np.mean(mfccs.T, axis=0)\n",
    "    except Exception as e:\n",
    "        print(f\"Error cargando {file_path}: {e}\")\n",
    "        return None\n",
    "    return features_vector"
   ]
  },
  {
   "cell_type": "markdown",
   "id": "f153c8d1",
   "metadata": {},
   "source": [
    "# Bloque 3: Carga y Extracción de Datos\n",
    "\n",
    "- Propósito: Leer todas las carpetas de audio y preparar los datos para entrenar.\n",
    "\n",
    "1) Crea listas vacías (\"features\" y \"labels\") para guardar los datos.\n",
    "2) Recorre cada carpeta de \"CLASES\" (pequeno, mediano, grande).\n",
    "3) Para cada archivo de audio (.wav) dentro de esas carpetas:\n",
    "    - Llama a la función \"extract_features\" (del Bloque 2)\n",
    "    - Guarda el vector de números en la lista \"features\" (la \"x\")\n",
    "    - Guarda la etiqueta (0, 1 o 2) en la lista \"labels\" (la \"y\")\n",
    "4) Al final, convierte esas listas de Python en arrays de NumPy (que es lo que \"sklearn\" necesita para entrenar)"
   ]
  },
  {
   "cell_type": "code",
   "execution_count": 3,
   "id": "87a67bb9",
   "metadata": {},
   "outputs": [
    {
     "name": "stdout",
     "output_type": "stream",
     "text": [
      "1. Cargando y extrayendo features...\n",
      "   -> Procesando clase: pequeno (etiqueta: 0)\n",
      "   -> Procesando clase: mediano (etiqueta: 1)\n",
      "   -> Procesando clase: grande (etiqueta: 2)\n",
      "\n",
      "Total de muestras cargadas: 28\n"
     ]
    }
   ],
   "source": [
    "# Bloque 3: Carga y Extracción de Datos\n",
    "features = [] \n",
    "labels = []   \n",
    "\n",
    "print(\"1. Cargando y extrayendo features...\")\n",
    "for i, clase in enumerate(CLASES):\n",
    "    folder_path = os.path.join(DATASET_BASE_PATH, clase)\n",
    "    print(f\"   -> Procesando clase: {clase} (etiqueta: {i})\")\n",
    "    \n",
    "    if not os.path.isdir(folder_path):\n",
    "        print(f\"   ERROR: Carpeta no encontrada: {folder_path}.\")\n",
    "        continue\n",
    "        \n",
    "    for filename in os.listdir(folder_path):\n",
    "        if filename.endswith(('.wav', '.mp3')):\n",
    "            file_path = os.path.join(folder_path, filename)\n",
    "            data = extract_features(file_path) # Usa la función del Bloque 2\n",
    "            \n",
    "            if data is not None:\n",
    "                features.append(data)\n",
    "                labels.append(i)\n",
    "\n",
    "if not features:\n",
    "    print(\"\\n¡ADVERTENCIA! No se cargaron muestras. Verifica tus carpetas.\")\n",
    "else:\n",
    "    print(f\"\\nTotal de muestras cargadas: {len(features)}\")\n",
    "    X = np.array(features)\n",
    "    y = np.array(labels)"
   ]
  },
  {
   "cell_type": "markdown",
   "id": "044fc74b",
   "metadata": {},
   "source": [
    "# Bloque 4: Entrenamiento y Guardado del Modelo\n",
    "\n",
    "- Propósito: Entrenar el modelo de IA y guardarlo\n",
    "\n",
    "1) Divide los datos: 80% para \"estudiar\" (entrenar) y 20% para \"probar\" (testear).\n",
    "2) Crea el modelo (`RandomForestClassifier`, un modelo simple y efectivo).\n",
    "3) Entrena el modelo usando los datos de \"estudio\" (`model.fit`).\n",
    "4) Evalúa qué tan bien aprendió usando los datos de \"prueba\" y muestra la precisión.\n",
    "5) Guarda el modelo ya entrenado en el archivo 'clasificador_vehiculos.joblib'. Este archivo es el \"cerebro\" que usará el Notebook 2."
   ]
  },
  {
   "cell_type": "code",
   "execution_count": 4,
   "id": "9c659ca1",
   "metadata": {},
   "outputs": [
    {
     "name": "stdout",
     "output_type": "stream",
     "text": [
      "2. Entrenando modelo RandomForest...\n",
      "   Precisión en datos de prueba: 66.67%\n",
      "\n",
      "3. Modelo guardado exitosamente como 'clasificador_vehiculos.joblib'\n"
     ]
    }
   ],
   "source": [
    "# Bloque 4: Entrenamiento y Guardado del Modelo\n",
    "if 'X' in locals() and len(X) > 0:\n",
    "    # Dividir datos\n",
    "    X_train, X_test, y_train, y_test = train_test_split(X, y, test_size=0.2, random_state=42)\n",
    "\n",
    "    # Entrenar\n",
    "    print(\"2. Entrenando modelo RandomForest...\")\n",
    "    model = RandomForestClassifier(n_estimators=100, random_state=42)\n",
    "    model.fit(X_train, y_train)\n",
    "\n",
    "    # Evaluar\n",
    "    y_pred = model.predict(X_test)\n",
    "    accuracy = accuracy_score(y_test, y_pred)\n",
    "    print(f\"   Precisión en datos de prueba: {accuracy * 100:.2f}%\")\n",
    "\n",
    "    # Guardar\n",
    "    joblib.dump(model, 'clasificador_vehiculos.joblib')\n",
    "    print(\"\\n3. Modelo guardado exitosamente como 'clasificador_vehiculos.joblib'\")\n",
    "else:\n",
    "    print(\"\\nNo se pudo entrenar el modelo (no se cargaron datos).\")"
   ]
  },
  {
   "cell_type": "markdown",
   "id": "243d9e5c",
   "metadata": {},
   "source": [
    "* Al final de la ejecucion se creara el archivo \"clasificador_vehiculos.joblib\" el cual se utilizara en \"02_Conteo_Aplicacion.ipynb\" para clasificar el tipo de vehiculo que se escucha en el audio a evaluar."
   ]
  }
 ],
 "metadata": {
  "kernelspec": {
   "display_name": "acus220",
   "language": "python",
   "name": "python3"
  },
  "language_info": {
   "codemirror_mode": {
    "name": "ipython",
    "version": 3
   },
   "file_extension": ".py",
   "mimetype": "text/x-python",
   "name": "python",
   "nbconvert_exporter": "python",
   "pygments_lexer": "ipython3",
   "version": "3.13.5"
  }
 },
 "nbformat": 4,
 "nbformat_minor": 5
}
