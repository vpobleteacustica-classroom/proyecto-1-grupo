{
 "cells": [
  {
   "cell_type": "code",
   "execution_count": 1,
   "id": "f9210d86",
   "metadata": {},
   "outputs": [],
   "source": [
    "# Bloque 1: Importaciones y Configuración\n",
    "import os\n",
    "import numpy as np\n",
    "import librosa\n",
    "from sklearn.model_selection import train_test_split\n",
    "from sklearn.ensemble import RandomForestClassifier\n",
    "from sklearn.metrics import accuracy_score\n",
    "import joblib\n",
    "\n",
    "# --- CONFIGURACIÓN DE PATHS (Ajustado a tu estructura) ---\n",
    "DATASET_BASE_PATH = \"audios_proyecto/\"\n",
    "#DATASET_BASE_PATH =\"Users\\DIEGO\\Documents\\OptativoAcus2025S2\\acus220_primavera_2025/audios/audios_proyecto/\"\n",
    "CLASES = [\"pequeno\", \"mediano\", \"grande\"]"
   ]
  },
  {
   "cell_type": "code",
   "execution_count": 2,
   "id": "b0dd3202",
   "metadata": {},
   "outputs": [],
   "source": [
    "# Bloque 2: Función de Extracción de Características\n",
    "def extract_features(file_path, n_mfcc=40):\n",
    "    \"\"\"Carga un archivo de audio (path) y extrae la media de 40 MFCCs.\"\"\"\n",
    "    try:\n",
    "        y, sr = librosa.load(file_path, res_type='kaiser_fast') \n",
    "        mfccs = librosa.feature.mfcc(y=y, sr=sr, n_mfcc=n_mfcc)\n",
    "        features_vector = np.mean(mfccs.T, axis=0)\n",
    "    except Exception as e:\n",
    "        print(f\"Error cargando {file_path}: {e}\")\n",
    "        return None\n",
    "    return features_vector"
   ]
  },
  {
   "cell_type": "code",
   "execution_count": 3,
   "id": "87a67bb9",
   "metadata": {},
   "outputs": [
    {
     "name": "stdout",
     "output_type": "stream",
     "text": [
      "1. Cargando y extrayendo features...\n",
      "   -> Procesando clase: pequeno (etiqueta: 0)\n",
      "   -> Procesando clase: mediano (etiqueta: 1)\n",
      "   -> Procesando clase: grande (etiqueta: 2)\n",
      "\n",
      "Total de muestras cargadas: 28\n"
     ]
    }
   ],
   "source": [
    "# Bloque 3: Carga y Extracción de Datos\n",
    "features = [] \n",
    "labels = []   \n",
    "\n",
    "print(\"1. Cargando y extrayendo features...\")\n",
    "for i, clase in enumerate(CLASES):\n",
    "    folder_path = os.path.join(DATASET_BASE_PATH, clase)\n",
    "    print(f\"   -> Procesando clase: {clase} (etiqueta: {i})\")\n",
    "    \n",
    "    if not os.path.isdir(folder_path):\n",
    "        print(f\"   ERROR: Carpeta no encontrada: {folder_path}.\")\n",
    "        continue\n",
    "        \n",
    "    for filename in os.listdir(folder_path):\n",
    "        if filename.endswith(('.wav', '.mp3')):\n",
    "            file_path = os.path.join(folder_path, filename)\n",
    "            data = extract_features(file_path) # Usa la función del Bloque 2\n",
    "            \n",
    "            if data is not None:\n",
    "                features.append(data)\n",
    "                labels.append(i)\n",
    "\n",
    "if not features:\n",
    "    print(\"\\n¡ADVERTENCIA! No se cargaron muestras. Verifica tus carpetas.\")\n",
    "else:\n",
    "    print(f\"\\nTotal de muestras cargadas: {len(features)}\")\n",
    "    X = np.array(features)\n",
    "    y = np.array(labels)"
   ]
  },
  {
   "cell_type": "code",
   "execution_count": 4,
   "id": "9c659ca1",
   "metadata": {},
   "outputs": [
    {
     "name": "stdout",
     "output_type": "stream",
     "text": [
      "2. Entrenando modelo RandomForest...\n",
      "   Precisión en datos de prueba: 66.67%\n",
      "\n",
      "3. Modelo guardado exitosamente como 'clasificador_vehiculos.joblib'\n"
     ]
    }
   ],
   "source": [
    "# Bloque 4: Entrenamiento y Guardado del Modelo\n",
    "if 'X' in locals() and len(X) > 0:\n",
    "    # Dividir datos\n",
    "    X_train, X_test, y_train, y_test = train_test_split(X, y, test_size=0.2, random_state=42)\n",
    "\n",
    "    # Entrenar\n",
    "    print(\"2. Entrenando modelo RandomForest...\")\n",
    "    model = RandomForestClassifier(n_estimators=100, random_state=42)\n",
    "    model.fit(X_train, y_train)\n",
    "\n",
    "    # Evaluar\n",
    "    y_pred = model.predict(X_test)\n",
    "    accuracy = accuracy_score(y_test, y_pred)\n",
    "    print(f\"   Precisión en datos de prueba: {accuracy * 100:.2f}%\")\n",
    "\n",
    "    # Guardar\n",
    "    joblib.dump(model, 'clasificador_vehiculos.joblib')\n",
    "    print(\"\\n3. Modelo guardado exitosamente como 'clasificador_vehiculos.joblib'\")\n",
    "else:\n",
    "    print(\"\\nNo se pudo entrenar el modelo (no se cargaron datos).\")"
   ]
  }
 ],
 "metadata": {
  "kernelspec": {
   "display_name": "acus220",
   "language": "python",
   "name": "python3"
  },
  "language_info": {
   "codemirror_mode": {
    "name": "ipython",
    "version": 3
   },
   "file_extension": ".py",
   "mimetype": "text/x-python",
   "name": "python",
   "nbconvert_exporter": "python",
   "pygments_lexer": "ipython3",
   "version": "3.13.5"
  }
 },
 "nbformat": 4,
 "nbformat_minor": 5
}
