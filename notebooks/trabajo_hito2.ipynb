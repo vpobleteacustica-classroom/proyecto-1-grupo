{
 "cells": [
  {
   "cell_type": "code",
   "execution_count": 1,
   "id": "6fd00001",
   "metadata": {},
   "outputs": [],
   "source": [
    "import soundfile as sf\n",
    "import numpy as np\n",
    "import librosa\n",
    "import librosa.display\n",
    "import matplotlib.pyplot as plt"
   ]
  },
  {
   "cell_type": "code",
   "execution_count": null,
   "id": "6603cb0c",
   "metadata": {},
   "outputs": [
    {
     "ename": "SyntaxError",
     "evalue": "invalid non-printable character U+00A0 (882232477.py, line 12)",
     "output_type": "error",
     "traceback": [
      "\u001b[1;36m  Cell \u001b[1;32mIn[2], line 12\u001b[1;36m\u001b[0m\n\u001b[1;33m    x = x.mean(axis=1)  # mono\u001b[0m\n\u001b[1;37m    ^\u001b[0m\n\u001b[1;31mSyntaxError\u001b[0m\u001b[1;31m:\u001b[0m invalid non-printable character U+00A0\n"
     ]
    }
   ],
   "source": [
    "import soundfile as sf\n",
    "import numpy as np\n",
    "import librosa\n",
    "import librosa.display\n",
    "import matplotlib.pyplot as plt\n",
    "\n",
    "# --- CONFIGURACIÓN ---\n",
    "# IMPORTANTE: Reemplaza esta línea con la ruta real a tu archivo .wav\n",
    "file_path = \"nombra_tu_grabacion.wav\"\n",
    "# ---------------------\n",
    "\n",
    "try:\n",
    "    # Carga tu grabación (o cualquier WAV propio que tengas)\n",
    "    x, sr = sf.read(file_path, always_2d=False)\n",
    "    \n",
    "    # Si es estéreo, conviértelo a mono promediando los canales\n",
    "    if x.ndim > 1:\n",
    "        x = x.mean(axis=1) # mono <-- ¡Error arreglado aquí!\n",
    "\n",
    "    # --- Cálculo del Espectrograma STFT ---\n",
    "    n_fft = 1024  # Tamaño de la ventana FFT (resolución de frecuencia)\n",
    "    hop = 256     # Desplazamiento de la ventana (resolución de tiempo)\n",
    "    \n",
    "    # Calcula el STFT y obtiene la magnitud al cuadrado (Power)\n",
    "    S = np.abs(librosa.stft(x, n_fft=n_fft, hop_length=hop, window=\"hann\"))**2\n",
    "    \n",
    "    # Convierte la potencia a Decibelios (dB)\n",
    "    S_db = librosa.power_to_db(S, ref=np.max)\n",
    "    \n",
    "    # Calcula los ejes de tiempo y frecuencia para los gráficos\n",
    "    t = librosa.frames_to_time(np.arange(S.shape[1]), sr=sr, hop_length=hop)\n",
    "    f = librosa.fft_frequencies(sr=sr, n_fft=n_fft)\n",
    "\n",
    "    # --- GRÁFICO 1: Forma de Onda Temporal ---\n",
    "    plt.figure(figsize=(12,3))\n",
    "    plt.plot(np.arange(len(x))/sr, x)\n",
    "    plt.xlabel(\"Tiempo [s]\")\n",
    "    plt.ylabel(\"Amplitud\")\n",
    "    plt.title(f\"Forma de onda de {file_path}\")\n",
    "    plt.grid(True, ls=\"--\", alpha=0.4)\n",
    "    plt.tight_layout()\n",
    "    plt.show()\n",
    "\n",
    "    # --- GRÁFICO 2: Espectrograma (STFT) ---\n",
    "    plt.figure(figsize=(12,4))\n",
    "    # Usamos 'y_axis='hz'' para mostrar la escala lineal de frecuencias\n",
    "    librosa.display.specshow(S_db, sr=sr, hop_length=hop, x_axis='time', y_axis='hz', cmap=\"magma\")\n",
    "    plt.colorbar(label=\"Magnitud [dB]\")\n",
    "    plt.title(f\"Espectrograma STFT de {file_path}\")\n",
    "    plt.tight_layout()\n",
    "    plt.show()\n",
    "\n",
    "except FileNotFoundError:\n",
    "    print(f\"Error: ¡No se pudo encontrar el archivo!\")\n",
    "    print(f\"Asegúrate de que el archivo '{file_path}' esté en la misma carpeta que tu notebook,\")\n",
    "    print(\"o proporciona la ruta completa (ej. 'C:/Audios/mi_grabacion.wav').\")\n",
    "except Exception as e:\n",
    "    print(f\"Ocurrió un error inesperado: {e}\")"
   ]
  },
  {
   "cell_type": "code",
   "execution_count": null,
   "id": "b9ad27b1",
   "metadata": {},
   "outputs": [
    {
     "name": "stdout",
     "output_type": "stream",
     "text": [
      "Iniciando descarga y conversión...\n",
      "[youtube] Extracting URL: https://www.youtube.com/watch?v=e_WBuBqS9h8\n",
      "[youtube] e_WBuBqS9h8: Downloading webpage\n",
      "[youtube] e_WBuBqS9h8: Downloading android sdkless player API JSON\n",
      "[youtube] e_WBuBqS9h8: Downloading tv client config\n",
      "[youtube] e_WBuBqS9h8: Downloading tv player API JSON\n",
      "[youtube] e_WBuBqS9h8: Downloading web safari player API JSON\n",
      "[youtube] e_WBuBqS9h8: Downloading player 6e4dbefe-main\n"
     ]
    },
    {
     "name": "stderr",
     "output_type": "stream",
     "text": [
      "WARNING: [youtube] Falling back to generic n function search\n",
      "         player = https://www.youtube.com/s/player/6e4dbefe/player_ias.vflset/en_US/base.js\n",
      "WARNING: [youtube] e_WBuBqS9h8: nsig extraction failed: Some formats may be missing\n",
      "         n = fFwIevLO1PlRkN4e ; player = https://www.youtube.com/s/player/6e4dbefe/player_ias.vflset/en_US/base.js\n",
      "         Please report this issue on  https://github.com/yt-dlp/yt-dlp/issues?q= , filling out the appropriate issue template. Confirm you are on the latest version using  yt-dlp -U\n",
      "WARNING: [youtube] e_WBuBqS9h8: Some web_safari client https formats have been skipped as they are missing a url. YouTube is forcing SABR streaming for this client. See  https://github.com/yt-dlp/yt-dlp/issues/12482  for more details\n",
      "WARNING: [youtube] e_WBuBqS9h8: Some web client https formats have been skipped as they are missing a url. YouTube is forcing SABR streaming for this client. See  https://github.com/yt-dlp/yt-dlp/issues/12482  for more details\n"
     ]
    },
    {
     "name": "stdout",
     "output_type": "stream",
     "text": [
      "[youtube] e_WBuBqS9h8: Downloading m3u8 information\n",
      "[info] e_WBuBqS9h8: Downloading 1 format(s): 251\n",
      "[download] Sleeping 3.00 seconds as required by the site...\n",
      "[download] Destination: mi_audio_descargado\n",
      "[download] 100% of   25.52MiB in 00:00:04 at 6.24MiB/s     \n",
      "[ExtractAudio] Destination: mi_audio_descargado.mp3\n"
     ]
    }
   ],
   "source": [
    "import yt_dlp\n",
    "import imageio_ffmpeg\n",
    "\n",
    "# --- Opciones para yt-dlp ---\n",
    "video_url = \"https://www.youtube.com/watch?v=e_WBuBqS9h8\"\n",
    "output_filename = \"mi_audio_descargado\" # No pongas extensión, yt-dlp la añade\n",
    "\n",
    "# 1. Obtenemos la ruta de FFmpeg\n",
    "ffmpeg_path = imageio_ffmpeg.get_ffmpeg_exe()\n",
    "\n",
    "ydl_opts = {\n",
    "    'format': 'bestaudio/best', # Descarga la mejor calidad de solo audio\n",
    "    'outtmpl': output_filename, # El nombre del archivo de salida\n",
    "    'ffmpeg_location': ffmpeg_path, # Le decimos dónde está ffmpeg\n",
    "    'postprocessors': [{\n",
    "        'key': 'FFmpegExtractAudio', # Le dice que extraiga el audio\n",
    "        'preferredcodec': 'mp3',       # Pide que lo convierta a mp3\n",
    "        'preferredquality': '192',     # Calidad del mp3 (ej. 192 kbps)\n",
    "    }],\n",
    "}\n",
    "\n",
    "# --- Ejecutar la descarga ---\n",
    "try:\n",
    "    print(\"Iniciando descarga y conversión...\")\n",
    "    with yt_dlp.YoutubeDL(ydl_opts) as ydl:\n",
    "        ydl.download([video_url])\n",
    "    \n",
    "    print(f\"\\n¡Éxito! Audio guardado como: {output_filename}.mp3\")\n",
    "\n",
    "except Exception as e:\n",
    "    print(f\"\\nOcurrió un error: {e}\")"
   ]
  }
 ],
 "metadata": {
  "kernelspec": {
   "display_name": "acus220",
   "language": "python",
   "name": "python3"
  },
  "language_info": {
   "codemirror_mode": {
    "name": "ipython",
    "version": 3
   },
   "file_extension": ".py",
   "mimetype": "text/x-python",
   "name": "python",
   "nbconvert_exporter": "python",
   "pygments_lexer": "ipython3",
   "version": "3.10.16"
  }
 },
 "nbformat": 4,
 "nbformat_minor": 5
}
