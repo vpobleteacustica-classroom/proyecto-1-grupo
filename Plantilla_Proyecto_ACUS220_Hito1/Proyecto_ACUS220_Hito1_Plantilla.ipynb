{
 "cells": [
  {
   "cell_type": "markdown",
   "id": "047d525e",
   "metadata": {},
   "source": [
    "<p align=\"center\">\n",
    "    <img src=\"figuras/escudo_uach.png\" alt=\"UACh\" width=\"200\"/>\n",
    "    </p>\n",
    "\n",
    "# Monitoreo Acústico del Flujo Vehicular  \n",
    "\n",
    "### Primer Hito de Entrega  \n",
    "\n",
    "**Integrantes:** Diego Corales, Cristobal Mansilla, Alvaro Guarda\n"
   ]
  },
  {
   "cell_type": "markdown",
   "id": "00ce9095",
   "metadata": {},
   "source": [
  
    "## Objetivos del Proyecto  \n",
    "",
    "**Objetivo General:**  \n",
    "Desarrollar un sistema capaz de detectar y estimar, a partir de audios ambientales, el nivel de transito de una zona.  \n",
    "\n",
    "**Objetivos Específicos:**  \n",
    "- OE1: Definir la base de datos que utilizaremos en el proyecto.  \n",
     "- OE2: Preprocesar los audios, aplicando técnicas como la generación de espectrogramas.   \n",
    "- OE3: Desarrollar algoritmos que permitan identificar el flujo vehicular y clasificar los vehículos según su tipo. \n",
    "\n"
   ]
  },
  {
   "cell_type": "markdown",
   "id": "c2ba83cb",
   "metadata": {},
   "source": [
    "## Estado del Arte  \n",
 
    "- El monitoreo de tráfico no intrusivo mediante el análisis de audio ambiental (Acoustic Event Detection - AED) es una alternativa de bajo costo y alta privacidad frente a los sistemas de video o lazos inductivos.  \n",
    "- La metodología líder en la actualidad emplea Redes Neuronales Convolucionales (CNN) o recurrentes (RNN) sobre representaciones visuales del sonido, como los Espectrogramas de Mel. Esto permite la clasificación precisa de eventos acústicos vehiculares (ej. Vehículo Ligero, Vehículo Pesado) para distinguir sus patrones de frecuencia.  \n",
    "- La estimación de flujo se realiza contando la frecuencia de estas detecciones clasificadas, lo que permite diferenciar la composición del tráfico (cantidad de ligeros vs. pesados) basándose en las características acústicas del motor y los neumáticos.  \n",
    "- En Python, librerías como Librosa, TensorFlow/PyTorch y Scikit-learn son las herramientas estándar para la implementación de este tipo de sistemas de Deep Learning aplicado al análisis acústico. \n"
   ]
  },
  {
   "cell_type": "markdown",
   "id": "7cc17aa5",
   "metadata": {},
   "source": [
    "## Materiales y Métodos  \n",
    "\n",
    "### Materiales  \n",
    "- Listar los datos, grabaciones, sensores o librerías de Python que se usarán.  \n",
    "\n",
    "### Metodología  \n",
   
    
    "| Actividad                        | Responsable(s)   | Fecha estimada |\n",
    "|----------------------------------|-----------------|----------------|\n",
    "| Obtendremos audios de bases públicas   | Grupo completo  | 28/09/2025     |\n",
    "| Limpiaremos, normalizaremos y segmentaremos los audios en partes manejables | Grupo completo   | --/--/----     |\n",
    "| Transformaremos los audios en espectrogramas para el análisis | Grupo completo        | --/--/----     |\n",
    "| Desarrollar algoritmo para identificar y clasificar los vehículos | Grupo completo        | --/--/----     |\n",
    "| Contar los vehiculos manualmente | Grupo completo        | --/--/----     |\n",
    "| Compararemos las predicciones con el conteo manual y evaluaremos la precisión del sistema | Grupo completo        | --/--/----     |\n"
   ]
  },
  {
   "cell_type": "markdown",
   "id": "b1eb4b2e",
   "metadata": {},
   "source": [
    "## Referencias Bibliográficas  \n",
    "- Alsina-Pagès, R. M., Hernández-Jayo, U., Alías, F., & Angulo, I. (2017). *Design of a mobile low-cost sensor network using urban buses for real-time ubiquitous noise monitoring*. Sensors, 17(1), 57.  \n",
    "- Shabbir, A., Cheema, A. N., Ullah, I., Almanjahie, I. M., & Alshahrani, F. (2024). *Smart City Traffic Management: Acoustic-Based Vehicle Detection Using Stacking-Based Ensemble Deep Learning Approach*.   \n",
    "- Evans, N. (2010). Automated Vehicle Detection and Classification using Acoustic and Seismic Signals. (PhD thesis, University of York, United Kingdom).   \n"
   ]
  },
  {
   "cell_type": "code",
   "execution_count": null,
   "id": "6976b888-1626-4d5a-bda1-70e82a47c291",
   "metadata": {},
   "outputs": [],
   "source": []
  }
 ],
 "metadata": {
  "kernelspec": {
   "display_name": "proyecto_1",
   "language": "python",
   "name": "proyecto_1"
  },
  "language_info": {
   "codemirror_mode": {
    "name": "ipython",
    "version": 3
   },
   "file_extension": ".py",
   "mimetype": "text/x-python",
   "name": "python",
   "nbconvert_exporter": "python",
   "pygments_lexer": "ipython3",
   "version": "3.11.13"
  }
 },
 "nbformat": 4,
 "nbformat_minor": 5
}
