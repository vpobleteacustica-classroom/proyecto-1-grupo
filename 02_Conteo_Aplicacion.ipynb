{
 "cells": [
  {
   "cell_type": "markdown",
   "id": "db8020c9",
   "metadata": {},
   "source": [
    "# Bloque 1: Importaciones y Configuración
     #
     # Propósito: Cargar las librerías necesarias (numpy, librosa, joblib, os).
     # También definimos las variables clave:
     # - MODELO_PATH: Dónde está guardado nuestro modelo entrenado.
     # - AUDIO_PARA_CLASIFICAR: El nombre del archivo de audio que queremos probar.
     # - CLASES_MAP: Un "diccionario" para traducir la predicción numérica (0, 1, 2) a texto.
     # - N_MFCC: El número de características que usamos (debe ser el mismo del entrenamiento)."
   ]
  },
  {
   "cell_type": "code",
   "execution_count": 2,
   "id": "6b95a361",
   "metadata": {},
   "outputs": [],
   "source": [
    "# Bloque 1: Importaciones y Configuración\n",
    "import numpy as np\n",
    "import librosa\n",
    "import joblib\n",
    "import os # Usaremos 'os' para verificar que el audio exista\n",
    "\n",
    "# --- CONFIGURACIÓN ---\n",
    "MODELO_PATH = \"clasificador_vehiculos.joblib\"\n",
    "# ¡¡PON AQUÍ EL NOMBRE DE TU AUDIO DE PRUEBA!!\n",
    "AUDIO_PARA_CLASIFICAR = \"audio_random.wav\" \n",
    "\n",
    "# Mapeo de las etiquetas numéricas a texto\n",
    "CLASES_MAP = {0: \"pequeno\", 1: \"mediano\", 2: \"grande\"} \n",
    "N_MFCC = 40 # ¡Debe ser el mismo número que usaste para entrenar!"
   ]
  },
  {
   "cell_type": "markdown",
   "id": "c1c24bae",
   "metadata": {},
   "source": [
    "fgfg"
   ]
  },
  {
   "cell_type": "code",
   "execution_count": 3,
   "id": "56ac708b",
   "metadata": {},
   "outputs": [],
   "source": [
    "# Bloque 2: Función de Extracción de Características\n",
    "def extract_features(file_path, n_mfcc=40):\n",
    "    \"\"\"Carga un archivo de audio (path) y extrae la media de 40 MFCCs.\"\"\"\n",
    "    try:\n",
    "        y, sr = librosa.load(file_path, res_type='kaiser_fast') \n",
    "        mfccs = librosa.feature.mfcc(y=y, sr=sr, n_mfcc=n_mfcc)\n",
    "        features_vector = np.mean(mfccs.T, axis=0)\n",
    "    except Exception as e:\n",
    "        print(f\"Error cargando {file_path}: {e}\")\n",
    "        return None\n",
    "    return features_vector"
   ]
  },
  {
   "cell_type": "markdown",
   "id": "43f3c54f",
   "metadata": {},
   "source": [
    "ghh"
   ]
  },
  {
   "cell_type": "code",
   "execution_count": 4,
   "id": "03bb5daf",
   "metadata": {},
   "outputs": [
    {
     "name": "stdout",
     "output_type": "stream",
     "text": [
      "Cargando modelo desde: clasificador_vehiculos.joblib\n",
      "¡Modelo cargado exitosamente!\n"
     ]
    }
   ],
   "source": [
    "# Bloque 3: Carga del Modelo\n",
    "print(f\"Cargando modelo desde: {MODELO_PATH}\")\n",
    "try:\n",
    "    model = joblib.load(MODELO_PATH)\n",
    "    print(\"¡Modelo cargado exitosamente!\")\n",
    "except FileNotFoundError:\n",
    "    print(f\"ERROR: No se encontró el archivo '{MODELO_PATH}'.\")\n",
    "    print(\"Asegúrate de ejecutar el Notebook '01_Entrenamiento_Modelo.ipynb' primero.\")\n",
    "    raise"
   ]
  },
  {
   "cell_type": "markdown",
   "id": "f04f6714",
   "metadata": {},
   "source": [
    "hthth"
   ]
  },
  {
   "cell_type": "code",
   "execution_count": 5,
   "id": "04e33996",
   "metadata": {},
   "outputs": [
    {
     "name": "stdout",
     "output_type": "stream",
     "text": [
      "\n",
      "Analizando audio: audio_random.wav...\n"
     ]
    },
    {
     "name": "stdout",
     "output_type": "stream",
     "text": [
      "\n",
      "===============================\n",
      "     ✅ RESULTADO ✅\n",
      "===============================\n",
      "El audio 'audio_random.wav' ha sido clasificado como:\n",
      " -> **PEQUENO**\n",
      "===============================\n"
     ]
    }
   ],
   "source": [
    "# Bloque 4: Clasificación del Audio\n",
    "print(f\"\\nAnalizando audio: {AUDIO_PARA_CLASIFICAR}...\")\n",
    "\n",
    "# 1. Verificar que el audio exista\n",
    "if not os.path.exists(AUDIO_PARA_CLASIFICAR):\n",
    "    print(f\"ERROR: No se encontró el archivo de audio '{AUDIO_PARA_CLASIFICAR}'.\")\n",
    "else:\n",
    "    # 2. Extraer características del audio (usando la misma función)\n",
    "    features = extract_features(AUDIO_PARA_CLASIFICAR, n_mfcc=N_MFCC)\n",
    "    \n",
    "    if features is not None:\n",
    "        # 3. Preparar el vector para el modelo (formato 2D)\n",
    "        features_2d = features.reshape(1, -1)\n",
    "        \n",
    "        # 4. Predecir\n",
    "        prediccion_num = model.predict(features_2d)\n",
    "        \n",
    "        # 5. Obtener el resultado en texto\n",
    "        clase_predicha = CLASES_MAP[prediccion_num[0]]\n",
    "        \n",
    "        # 6. Mostrar el resultado\n",
    "        print(\"\\n===============================\")\n",
    "        print(\"     ✅ RESULTADO ✅\")\n",
    "        print(\"===============================\")\n",
    "        print(f\"El audio '{AUDIO_PARA_CLASIFICAR}' ha sido clasificado como:\")\n",
    "        print(f\" -> **{clase_predicha.upper()}**\")\n",
    "        print(\"===============================\")\n",
    "    else:\n",
    "        print(\"No se pudieron extraer características del audio.\")"
   ]
  }
 ],
 "metadata": {
  "kernelspec": {
   "display_name": "acus220",
   "language": "python",
   "name": "python3"
  },
  "language_info": {
   "codemirror_mode": {
    "name": "ipython",
    "version": 3
   },
   "file_extension": ".py",
   "mimetype": "text/x-python",
   "name": "python",
   "nbconvert_exporter": "python",
   "pygments_lexer": "ipython3",
   "version": "3.13.5"
  }
 },
 "nbformat": 4,
 "nbformat_minor": 5
}
